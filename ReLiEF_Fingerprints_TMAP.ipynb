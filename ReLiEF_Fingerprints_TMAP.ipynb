import pandas as pd
import tmap
from faerun import Faerun
from mhfp.encoder import MHFPEncoder
import random
import csv
import pandas as pd
import re

label = ['A'] * 60

label[0] = '6xr6_0001'
label[1] = '6xr6_0002'
label[2] = '6xr6_0003'
label[3] = '6xr6_0004'
label[4] = '6xr6_0005'
label[5] = '6xr6_0006'
label[6] = '6xr6_0007'
label[7] = '6xr6_0008'
label[8] = '6xr6_0009'
label[9] = '6xr6_0010'
label[10] = '6xr6_0011'
label[11] = '6xr6_0012'
label[12] = '6xr6_0013'
label[13] = '6xr6_0014'
label[14] = '6xr6_0015'
label[15] = '6xr6_0016'
label[16] = '6xr6_0017'
label[17] = '6xr6_0018'
label[18] = '6xr6_0019'
label[19] = '6xr6_0020'
label[20] = '6xr7_0001'
label[21] = '6xr7_0002'
label[22] = '6xr7_0003'
label[23] = '6xr7_0004'
label[24] = '6xr7_0005'
label[25] = '6xr7_0006'
label[26] = '6xr7_0007'
label[27] = '6xr7_0008'
label[28] = '6xr7_0009'
label[29] = '6xr7_0010'
label[30] = '6xr7_0011'
label[31] = '6xr7_0012'
label[32] = '6xr7_0013'
label[33] = '6xr7_0014'
label[34] = '6xr7_0015'
label[35] = '6xr7_0016'
label[36] = '6xr7_0017'
label[37] = '6xr7_0018'
label[38] = '6xr7_0019'
label[39] = '6xr7_0020'
label[40] = '6xrg_0001'
label[41] = '6xrg_0002'
label[42] = '6xrg_0003'
label[43] = '6xrg_0004'
label[44] = '6xrg_0005'
label[45] = '6xrg_0006'
label[46] = '6xrg_0007'
label[47] = '6xrg_0008'
label[48] = '6xrg_0009'
label[49] = '6xrg_0010'
label[50] = '6xrg_0011'
label[51] = '6xrg_0012'
label[52] = '6xrg_0013'
label[53] = '6xrg_0014'
label[54] = '6xrg_0015'
label[55] = '6xrg_0016'
label[56] = '6xrg_0017'
label[57] = '6xrg_0018'
label[58] = '6xrg_0019'
label[59] = '6xrg_0020'


ecfp4_lists = []
ECFP4_fps = []
fingerprint_stringed = []
bits = 10000

filepath = 'ReLieF_Fingerprints.csv'
df = pd.read_csv(filepath)

for fingerprint_whole in df['Fingerprints']:
    fingerprint_split = fingerprint_whole.split(" ") 
    ecfp4_lists.append(fingerprint_split)
    
# Initialize the Minhash
enc = tmap.Minhash(bits)


# Initialize the LSH Forest
lf_ecfp4 = tmap.LSHForest(bits)


# Add the Fingerprints to the LSH Forest and index
lf_ecfp4.batch_add(enc.batch_from_string_array(ecfp4_lists))
lf_ecfp4.index()

x, y, s, t, _ = tmap.layout_from_lsh_forest(lf_ecfp4)

import math  

#for partner_A_index in range(0,len(s)):
#    partner_A_x = x[partner_A_index]
#    partner_A_y = y[partner_A_index]
#    for partner_B_index in range(partner_A_index+1,len(s)):
#        partner_B_x = x[partner_B_index]
#        partner_B_y = y[partner_B_index]
#        distance = math.sqrt((partner_A_x - partner_B_x)**2+(partner_A_y - partner_B_y)**2)
#        print(partner_A_index,partner_B_index,distance)

distance_array = []

for partner_A_index in range(0,len(s)+1):
    partner_A_x = x[partner_A_index]
    partner_A_y = y[partner_A_index]
    column_vector = []
    out_vector = ""
    for partner_B_index in range(0,len(s)+1):
        partner_B_x = x[partner_B_index]
        partner_B_y = y[partner_B_index]
        distance = math.sqrt((partner_A_x - partner_B_x)**2+(partner_A_y - partner_B_y)**2)
        column_vector.append(distance)
        out_vector = out_vector + str(distance) + " "
    distance_array.append(column_vector)
    print(out_vector)
#       print(partner_A_index,partner_B_index,distance)


import plotly.express as px

# fig = px.imshow(distance_array, text_auto=True, aspect="auto")
fig = px.imshow(distance_array,width=1000, height=1000,x=label,y=label)
fig.show()


knng_from = tmap.VectorUint()
knng_to = tmap.VectorUint()
knng_weight = tmap.VectorFloat()
Test = ()

Test = lf_ecfp4.get_knn_graph(knng_from, knng_to, knng_weight, 10)

#print(knng_from)
#print(knng_to)
#print(knng_weight)

for index in range(0,len(knng_from)):
    if knng_weight[index] != -1:
        print(f"{knng_from[index]} {knng_to[index]} {knng_weight[index]}")


# Now plot the data
# White 'FFFFFF'
# Black '000000'
# Light gray 'D3D3D3'
faerun = Faerun(clear_color = 'FFFFFF', view="free", coords=False, alpha_blending=True, coords_box=False, coords_grid=False, coords_color = '000000', coords_offset=2.0, coords_tick_count=10)
faerun.add_scatter(
    "ESOL_ECFP4",
    {   "x": x, 
        "y": y,
        "c": df['Color'],
        "labels": df['Name']},
    point_scale=15,
    colormap = ['Set1'],
    has_legend=True,
    categorical=[True],
    series_title = ['ESOL (mol/L)'],
    legend_labels = [None],
    fog_intensity = 0.5,
    shader = 'sphere'
)

faerun.add_tree("ESOL_ECFP4_tree", {"from": s, "to": t}, point_helper="ESOL_ECFP4")

# Choose the "smiles" template to display structure on hover
faerun.plot("ESOL_ECFP4",template="default", notebook_height=750)
